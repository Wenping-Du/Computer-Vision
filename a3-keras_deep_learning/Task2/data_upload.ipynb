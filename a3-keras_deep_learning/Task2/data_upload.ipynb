{
  "nbformat": 4,
  "nbformat_minor": 0,
  "metadata": {
    "colab": {
      "name": "data_upload.ipynb",
      "version": "0.3.2",
      "provenance": []
    },
    "kernelspec": {
      "name": "python3",
      "display_name": "Python 3"
    }
  },
  "cells": [
    {
      "cell_type": "markdown",
      "metadata": {
        "id": "OFp7HdvEe_uW",
        "colab_type": "text"
      },
      "source": [
        "**this code snippet will allow you to upload data to google colab.**\n",
        "\n",
        "This data will be available **only** in the notebook in which you run this code. Add this to the top of your notebook for Task2"
      ]
    },
    {
      "cell_type": "code",
      "metadata": {
        "id": "NCA-A6lzAWkP",
        "colab_type": "code",
        "outputId": "4f92451d-3ced-46ac-aad6-d99b00129fcb",
        "colab": {
          "base_uri": "https://localhost:8080/",
          "height": 53
        }
      },
      "source": [
        "# use this code snippet to upload the mat file to google colab \n",
        "# The dataset will be stored in the variables X and Y\n",
        "\n",
        "\n",
        "import scipy.io as sio\n",
        "import numpy as np\n",
        "\n",
        "import os.path\n",
        "if not os.path.isfile('training_data.mat'):\n",
        "  from google.colab import files\n",
        "  uploaded = files.upload()\n",
        "  \n",
        "  \n",
        "  \n",
        "data = sio.loadmat('training_data.mat')\n",
        "X = np.array(data['X'])\n",
        "\n",
        "X = np.append(X.T, np.ones((X.shape[1],1)),axis = 1)\n",
        "Y = np.array(data['Y'])\n",
        "\n",
        "print('Training data shape:',X.shape)\n",
        "print('Labels shape:', Y.shape)"
      ],
      "execution_count": 0,
      "outputs": [
        {
          "output_type": "stream",
          "text": [
            "Training data shape: (15468, 3)\n",
            "Labels shape: (15468, 1)\n"
          ],
          "name": "stdout"
        }
      ]
    },
    {
      "cell_type": "code",
      "metadata": {
        "id": "20amuF_TViFk",
        "colab_type": "code",
        "colab": {}
      },
      "source": [
        ""
      ],
      "execution_count": 0,
      "outputs": []
    }
  ]
}